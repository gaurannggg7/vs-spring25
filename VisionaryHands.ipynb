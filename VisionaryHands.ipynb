{
 "cells": [
  {
   "cell_type": "code",
   "execution_count": 7,
   "id": "ce2a339d-e601-4c1e-975d-66a93d68e55f",
   "metadata": {},
   "outputs": [
    {
     "name": "stdout",
     "output_type": "stream",
     "text": [
      "Dataset saved to gesture2_dataset.csv\n"
     ]
    }
   ],
   "source": [
    "import csv\n",
    "\n",
    "def save_to_csv(dataset, filename=\"gesture2_dataset.csv\"):\n",
    "    \"\"\"\n",
    "    Saves the dataset to a CSV file.\n",
    "    Args:\n",
    "        dataset: List of data entries (each entry is a list of sensor values and a label).\n",
    "        filename: Name of the CSV file to save.\n",
    "    \"\"\"\n",
    "    header = [\"Flex1\", \"Flex2\", \"Flex3\", \"Flex4\", \"Flex5\", \"Label\"]\n",
    "    try:\n",
    "        with open(filename, \"w\", newline=\"\") as file:\n",
    "            writer = csv.writer(file)\n",
    "            writer.writerow(header)\n",
    "            writer.writerows(dataset)\n",
    "        print(f\"Dataset saved to {filename}\")\n",
    "    except Exception as e:\n",
    "        print(\"An error occurred while saving the file:\", e)\n",
    "\n",
    "def main():\n",
    "    # Hardcoded sensor values and labels\n",
    "    dataset = [\n",
    "        [0.1, 0.2, 0.3, 0.4, 0.5, \"Producing A Certain letter\"],\n",
    "        [0.6, 0.7, 0.8, 0.9, 1.0, \"Producing A Certain letter\"],\n",
    "        [0.2, 0.3, 0.4, 0.5, 0.6, \"Producing A Certain letter\"],\n",
    "        [0.9, 0.8, 0.7, 0.6, 0.5, \"Producing A Certain letter\"]\n",
    "    ]\n",
    "    \n",
    "    save_to_csv(dataset)\n",
    "\n",
    "if __name__ == \"__main__\":\n",
    "    main()\n"
   ]
  },
  {
   "cell_type": "code",
   "execution_count": 8,
   "id": "0a478a41-c973-4a3c-82e1-0e32de5a0906",
   "metadata": {},
   "outputs": [
    {
     "name": "stdout",
     "output_type": "stream",
     "text": [
      "Current working directory: C:\\Users\\SOUNAK GHOSH\n"
     ]
    }
   ],
   "source": [
    "import os\n",
    "print(\"Current working directory:\", os.getcwd())\n"
   ]
  },
  {
   "cell_type": "code",
   "execution_count": null,
   "id": "df67cd45-6884-4931-951a-83fd2f8e0101",
   "metadata": {},
   "outputs": [],
   "source": []
  }
 ],
 "metadata": {
  "kernelspec": {
   "display_name": "Python 3 (ipykernel)",
   "language": "python",
   "name": "python3"
  },
  "language_info": {
   "codemirror_mode": {
    "name": "ipython",
    "version": 3
   },
   "file_extension": ".py",
   "mimetype": "text/x-python",
   "name": "python",
   "nbconvert_exporter": "python",
   "pygments_lexer": "ipython3",
   "version": "3.12.6"
  }
 },
 "nbformat": 4,
 "nbformat_minor": 5
}
